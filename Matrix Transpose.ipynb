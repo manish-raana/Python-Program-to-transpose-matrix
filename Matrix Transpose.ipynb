{
 "cells": [
  {
   "cell_type": "code",
   "execution_count": null,
   "metadata": {},
   "outputs": [],
   "source": [
    "# Python Program to transpose matrix\n",
    "\n",
    "row,col = map(int,input().split())\n",
    "matrix = list()\n",
    "for i in range(row):\n",
    "    r = list(map(int,input().split()))\n",
    "    matrix.append(r)\n",
    "    \n",
    "trans = [[0 for y in range(row)]for x in range(col)]\n",
    "for i in range(len(matrix[0])):\n",
    "    for j in range(len(matrix)):\n",
    "        trans[i][j] = matrix[j][i]\n",
    "        \n",
    "for i in range(len(trans)):\n",
    "    for j in range(len(trans[0])):\n",
    "        print(trans[i][j],end=' ')\n",
    "    print(' ')"
   ]
  }
 ],
 "metadata": {
  "kernelspec": {
   "display_name": "Python 3",
   "language": "python",
   "name": "python3"
  },
  "language_info": {
   "codemirror_mode": {
    "name": "ipython",
    "version": 3
   },
   "file_extension": ".py",
   "mimetype": "text/x-python",
   "name": "python",
   "nbconvert_exporter": "python",
   "pygments_lexer": "ipython3",
   "version": "3.6.4"
  }
 },
 "nbformat": 4,
 "nbformat_minor": 2
}
